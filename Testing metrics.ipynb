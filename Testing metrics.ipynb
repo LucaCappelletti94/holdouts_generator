{
 "cells": [
  {
   "cell_type": "code",
   "execution_count": 76,
   "metadata": {},
   "outputs": [],
   "source": [
    "from sklearn.metrics import accuracy_score\n",
    "from sklearn.metrics import balanced_accuracy_score\n",
    "from sklearn.metrics import average_precision_score\n",
    "from sklearn.metrics import cohen_kappa_score\n",
    "from sklearn.metrics import confusion_matrix\n",
    "from sklearn.metrics import f1_score\n",
    "from sklearn.metrics import hamming_loss\n",
    "from sklearn.metrics import hinge_loss\n",
    "from sklearn.metrics import jaccard_score\n",
    "from sklearn.metrics import log_loss\n",
    "from sklearn.metrics import matthews_corrcoef\n",
    "from sklearn.metrics import precision_recall_curve\n",
    "from sklearn.metrics import precision_recall_fscore_support\n",
    "from sklearn.metrics import precision_score\n",
    "from sklearn.metrics import recall_score\n",
    "from sklearn.metrics import zero_one_loss\n",
    "from sklearn.metrics import brier_score_loss\n",
    "from sklearn.metrics import roc_auc_score\n",
    "\n",
    "import numpy as np\n",
    "from typing import Callable"
   ]
  },
  {
   "cell_type": "code",
   "execution_count": 77,
   "metadata": {},
   "outputs": [],
   "source": [
    "N = 1000\n",
    "y_true = np.random.randint(2, size=N)\n",
    "y_pred = y_true / 1.2 # np.random.uniform(size=N)"
   ]
  },
  {
   "cell_type": "code",
   "execution_count": 80,
   "metadata": {},
   "outputs": [],
   "source": [
    "metrics = [\n",
    "    accuracy_score,\n",
    "    balanced_accuracy_score,\n",
    "    average_precision_score,\n",
    "    cohen_kappa_score,\n",
    "    confusion_matrix,\n",
    "    f1_score,\n",
    "    hamming_loss,\n",
    "    hinge_loss,\n",
    "    jaccard_score,\n",
    "    log_loss,\n",
    "    matthews_corrcoef,\n",
    "    precision_recall_curve,\n",
    "    precision_recall_fscore_support,\n",
    "    precision_score,\n",
    "    recall_score,\n",
    "    brier_score_loss,\n",
    "    roc_auc_score,\n",
    "    zero_one_loss\n",
    "]"
   ]
  },
  {
   "cell_type": "code",
   "execution_count": 97,
   "metadata": {},
   "outputs": [
    {
     "name": "stdout",
     "output_type": "stream",
     "text": [
      "accuracy_score 1.0\n",
      "balanced_accuracy_score 1.0\n",
      "cohen_kappa_score 1.0\n",
      "confusion_matrix [[492   0]\n",
      " [  0 508]]\n",
      "f1_score 1.0\n",
      "hamming_loss 0.0\n",
      "jaccard_score 1.0\n",
      "matthews_corrcoef 1.0\n",
      "precision_recall_fscore_support (array([1., 1.]), array([1., 1.]), array([1., 1.]), array([492, 508]))\n",
      "precision_score 1.0\n",
      "recall_score 1.0\n",
      "zero_one_loss 0.0\n"
     ]
    }
   ],
   "source": [
    "continuos = []\n",
    "integer = [] \n",
    "\n",
    "for metric in metrics:\n",
    "    try:\n",
    "        result = metric(y_true, y_pred)\n",
    "        continuos.append(metric.__name__)\n",
    "    except ValueError as e:\n",
    "        result = metric(y_true, y_pred.round())\n",
    "        print(metric.__name__, result)\n",
    "        integer.append(metric.__name__)"
   ]
  },
  {
   "cell_type": "code",
   "execution_count": 87,
   "metadata": {},
   "outputs": [
    {
     "data": {
      "text/plain": [
       "['average_precision_score',\n",
       " 'hinge_loss',\n",
       " 'log_loss',\n",
       " 'precision_recall_curve',\n",
       " 'brier_score_loss',\n",
       " 'roc_auc_score']"
      ]
     },
     "execution_count": 87,
     "metadata": {},
     "output_type": "execute_result"
    }
   ],
   "source": [
    "continuos"
   ]
  },
  {
   "cell_type": "code",
   "execution_count": 93,
   "metadata": {},
   "outputs": [
    {
     "data": {
      "text/plain": [
       "True"
      ]
     },
     "execution_count": 93,
     "metadata": {},
     "output_type": "execute_result"
    }
   ],
   "source": [
    "{0, 1}.issuperset([1, 1, 1.0])"
   ]
  },
  {
   "cell_type": "code",
   "execution_count": null,
   "metadata": {},
   "outputs": [],
   "source": []
  }
 ],
 "metadata": {
  "kernelspec": {
   "display_name": "Python 3",
   "language": "python",
   "name": "python3"
  },
  "language_info": {
   "codemirror_mode": {
    "name": "ipython",
    "version": 3
   },
   "file_extension": ".py",
   "mimetype": "text/x-python",
   "name": "python",
   "nbconvert_exporter": "python",
   "pygments_lexer": "ipython3",
   "version": "3.7.3"
  }
 },
 "nbformat": 4,
 "nbformat_minor": 2
}
